{
  "nbformat": 4,
  "nbformat_minor": 0,
  "metadata": {
    "colab": {
      "name": "week1-exercise",
      "provenance": [],
      "include_colab_link": true
    },
    "kernelspec": {
      "name": "python3",
      "display_name": "Python 3"
    },
    "accelerator": "GPU"
  },
  "cells": [
    {
      "cell_type": "markdown",
      "metadata": {
        "id": "view-in-github",
        "colab_type": "text"
      },
      "source": [
        "<a href=\"https://colab.research.google.com/github/aliakbarbadri/nlp-tf/blob/master/week2/week2-examples.ipynb\" target=\"_parent\"><img src=\"https://colab.research.google.com/assets/colab-badge.svg\" alt=\"Open In Colab\"/></a>"
      ]
    },
    {
      "cell_type": "code",
      "metadata": {
        "id": "LQM0KGAd4atk",
        "colab_type": "code",
        "colab": {}
      },
      "source": [
        "import tensorflow as tf\n",
        "from tensorflow import keras\n",
        "import tensorflow_datasets as tfds\n",
        "import numpy as np\n",
        "from tensorflow.keras.preprocessing.text import Tokenizer\n",
        "from tensorflow.keras.preprocessing.sequence import pad_sequences\n",
        "import io\n",
        "from google.colab import files\n",
        "import matplotlib.pyplot as plt\n"
      ],
      "execution_count": 0,
      "outputs": []
    },
    {
      "cell_type": "markdown",
      "metadata": {
        "id": "af_0QtuOG5G9",
        "colab_type": "text"
      },
      "source": [
        "# Lesson 1"
      ]
    },
    {
      "cell_type": "code",
      "metadata": {
        "id": "axAaI91ADgFN",
        "colab_type": "code",
        "colab": {}
      },
      "source": [
        "imdb, info = tfds.load(\"imdb_reviews\", with_info=True, as_supervised=True)"
      ],
      "execution_count": 0,
      "outputs": []
    },
    {
      "cell_type": "code",
      "metadata": {
        "id": "h-9x5kDeDqol",
        "colab_type": "code",
        "colab": {}
      },
      "source": [
        "train_data, test_data = imdb['train'], imdb['test']\n"
      ],
      "execution_count": 0,
      "outputs": []
    },
    {
      "cell_type": "code",
      "metadata": {
        "id": "IsTpo7N1GMZP",
        "colab_type": "code",
        "colab": {}
      },
      "source": [
        "train_sents = []\n",
        "train_labels = []\n",
        "test_sents = []\n",
        "test_labels = []\n",
        "\n",
        "for s,l in train_data:\n",
        "  train_sents.append(str(s.numpy()))\n",
        "  train_labels.append(l.numpy())\n",
        "\n",
        "for s,l in test_data:\n",
        "  test_sents.append(str(s.numpy()))\n",
        "  test_labels.append(l.numpy())\n",
        "\n",
        "train_labels = np.array(train_labels)\n",
        "test_labels = np.array(test_labels)"
      ],
      "execution_count": 0,
      "outputs": []
    },
    {
      "cell_type": "code",
      "metadata": {
        "id": "scw106FJMCC_",
        "colab_type": "code",
        "colab": {
          "base_uri": "https://localhost:8080/",
          "height": 71
        },
        "outputId": "f584cd30-b914-4d5e-c13a-fb5c332579d3"
      },
      "source": [
        "train_labels[0],train_sents[0]"
      ],
      "execution_count": 15,
      "outputs": [
        {
          "output_type": "execute_result",
          "data": {
            "text/plain": [
              "(0,\n",
              " 'b\"This was an absolutely terrible movie. Don\\'t be lured in by Christopher Walken or Michael Ironside. Both are great actors, but this must simply be their worst role in history. Even their great acting could not redeem this movie\\'s ridiculous storyline. This movie is an early nineties US propaganda piece. The most pathetic scenes were those when the Columbian rebels were making their cases for revolutions. Maria Conchita Alonso appeared phony, and her pseudo-love affair with Walken was nothing but a pathetic emotional plug in a movie that was devoid of any real meaning. I am disappointed that there are movies like this, ruining actor\\'s like Christopher Walken\\'s good name. I could barely sit through it.\"')"
            ]
          },
          "metadata": {
            "tags": []
          },
          "execution_count": 15
        }
      ]
    },
    {
      "cell_type": "code",
      "metadata": {
        "id": "z8eVsznLLn2D",
        "colab_type": "code",
        "outputId": "afbc350c-8465-4838-e0e5-c030b7c74ced",
        "colab": {
          "base_uri": "https://localhost:8080/",
          "height": 71
        }
      },
      "source": [
        "train_labels[3],train_sents[3]"
      ],
      "execution_count": 16,
      "outputs": [
        {
          "output_type": "execute_result",
          "data": {
            "text/plain": [
              "(1,\n",
              " \"b'This is the kind of film for a snowy Sunday afternoon when the rest of the world can go ahead with its own business as you descend into a big arm-chair and mellow for a couple of hours. Wonderful performances from Cher and Nicolas Cage (as always) gently row the plot along. There are no rapids to cross, no dangerous waters, just a warm and witty paddle through New York life at its best. A family film in every sense and one that deserves the praise it received.'\")"
            ]
          },
          "metadata": {
            "tags": []
          },
          "execution_count": 16
        }
      ]
    },
    {
      "cell_type": "code",
      "metadata": {
        "id": "--KsZXjhGwN-",
        "colab_type": "code",
        "colab": {}
      },
      "source": [
        "vocab_size = 10000\n",
        "max_len = 120\n",
        "trunc_type = \"post\"\n",
        "oov_token = \"<OOV>\"\n",
        "embedding_dim = 16\n",
        "\n",
        "tokenizer = Tokenizer(num_words=vocab_size, oov_token=oov_token)\n",
        "tokenizer.fit_on_texts(train_sents)\n",
        "train_word_index = tokenizer.word_index\n",
        "train_seqs = tokenizer.texts_to_sequences(train_sents)\n",
        "train_padded = pad_sequences(train_seqs,maxlen=max_len, truncating=trunc_type)\n",
        "\n",
        "test_seqs = tokenizer.texts_to_sequences(test_sents)\n",
        "test_padded = pad_sequences(test_seqs,maxlen=max_len)"
      ],
      "execution_count": 0,
      "outputs": []
    },
    {
      "cell_type": "code",
      "metadata": {
        "id": "LD7xhf-NKTlh",
        "colab_type": "code",
        "outputId": "a6460a35-ba7e-4d7d-d489-e1ebc907ae50",
        "colab": {
          "base_uri": "https://localhost:8080/",
          "height": 289
        }
      },
      "source": [
        "model = tf.keras.Sequential([\n",
        "    tf.keras.layers.Embedding(vocab_size, embedding_dim, input_length=max_len),\n",
        "    tf.keras.layers.Flatten(),\n",
        "    tf.keras.layers.Dense(6, activation='relu'),\n",
        "    tf.keras.layers.Dense(1, activation='sigmoid')\n",
        "])\n",
        "model.compile(loss='binary_crossentropy',optimizer='adam',metrics=['accuracy'])\n",
        "model.summary()"
      ],
      "execution_count": 18,
      "outputs": [
        {
          "output_type": "stream",
          "text": [
            "Model: \"sequential_1\"\n",
            "_________________________________________________________________\n",
            "Layer (type)                 Output Shape              Param #   \n",
            "=================================================================\n",
            "embedding_1 (Embedding)      (None, 120, 16)           160000    \n",
            "_________________________________________________________________\n",
            "flatten_1 (Flatten)          (None, 1920)              0         \n",
            "_________________________________________________________________\n",
            "dense_2 (Dense)              (None, 6)                 11526     \n",
            "_________________________________________________________________\n",
            "dense_3 (Dense)              (None, 1)                 7         \n",
            "=================================================================\n",
            "Total params: 171,533\n",
            "Trainable params: 171,533\n",
            "Non-trainable params: 0\n",
            "_________________________________________________________________\n"
          ],
          "name": "stdout"
        }
      ]
    },
    {
      "cell_type": "code",
      "metadata": {
        "id": "LBKz6H5WvdVR",
        "colab_type": "code",
        "outputId": "c4885651-7c26-42f6-ee72-22a533469f58",
        "colab": {
          "base_uri": "https://localhost:8080/",
          "height": 357
        }
      },
      "source": [
        "history = model.fit(train_padded, train_labels, epochs=10, validation_data=(test_padded, test_labels))"
      ],
      "execution_count": 19,
      "outputs": [
        {
          "output_type": "stream",
          "text": [
            "Epoch 1/10\n",
            "782/782 [==============================] - 7s 9ms/step - loss: 0.4911 - accuracy: 0.7470 - val_loss: 0.3575 - val_accuracy: 0.8450\n",
            "Epoch 2/10\n",
            "782/782 [==============================] - 7s 8ms/step - loss: 0.2436 - accuracy: 0.9055 - val_loss: 0.3713 - val_accuracy: 0.8365\n",
            "Epoch 3/10\n",
            "782/782 [==============================] - 7s 8ms/step - loss: 0.0963 - accuracy: 0.9747 - val_loss: 0.4602 - val_accuracy: 0.8222\n",
            "Epoch 4/10\n",
            "782/782 [==============================] - 7s 8ms/step - loss: 0.0258 - accuracy: 0.9964 - val_loss: 0.5320 - val_accuracy: 0.8234\n",
            "Epoch 5/10\n",
            "782/782 [==============================] - 7s 8ms/step - loss: 0.0083 - accuracy: 0.9992 - val_loss: 0.5950 - val_accuracy: 0.8214\n",
            "Epoch 6/10\n",
            "782/782 [==============================] - 7s 8ms/step - loss: 0.0026 - accuracy: 0.9999 - val_loss: 0.6498 - val_accuracy: 0.8230\n",
            "Epoch 7/10\n",
            "782/782 [==============================] - 7s 8ms/step - loss: 9.9636e-04 - accuracy: 1.0000 - val_loss: 0.6949 - val_accuracy: 0.8249\n",
            "Epoch 8/10\n",
            "782/782 [==============================] - 7s 8ms/step - loss: 5.0884e-04 - accuracy: 1.0000 - val_loss: 0.7333 - val_accuracy: 0.8256\n",
            "Epoch 9/10\n",
            "782/782 [==============================] - 7s 8ms/step - loss: 2.8466e-04 - accuracy: 1.0000 - val_loss: 0.7717 - val_accuracy: 0.8249\n",
            "Epoch 10/10\n",
            "782/782 [==============================] - 7s 9ms/step - loss: 1.7072e-04 - accuracy: 1.0000 - val_loss: 0.8095 - val_accuracy: 0.8248\n"
          ],
          "name": "stdout"
        }
      ]
    },
    {
      "cell_type": "code",
      "metadata": {
        "id": "lR8wFyWts_lX",
        "colab_type": "code",
        "colab": {
          "base_uri": "https://localhost:8080/",
          "height": 541
        },
        "outputId": "591e9317-3540-45d2-8e27-26f046e744e6"
      },
      "source": [
        "def plot_graphs(history, string):\n",
        "  plt.plot(history.history[string])\n",
        "  plt.plot(history.history['val_'+string])\n",
        "  plt.xlabel(\"Epochs\")\n",
        "  plt.ylabel(string)\n",
        "  plt.legend([string, 'val_'+string])\n",
        "  plt.show()\n",
        "  \n",
        "plot_graphs(history, \"accuracy\")\n",
        "plot_graphs(history, \"loss\")"
      ],
      "execution_count": 20,
      "outputs": [
        {
          "output_type": "display_data",
          "data": {
            "image/png": "[encoded data removed]",
            "text/plain": [
              "<Figure size 432x288 with 1 Axes>"
            ]
          },
          "metadata": {
            "tags": [],
            "needs_background": "light"
          }
        },
        {
          "output_type": "display_data",
          "data": {
            "image/png": "[encoded data removed]",
            "text/plain": [
              "<Figure size 432x288 with 1 Axes>"
            ]
          },
          "metadata": {
            "tags": [],
            "needs_background": "light"
          }
        }
      ]
    },
    {
      "cell_type": "code",
      "metadata": {
        "id": "Lml4JsXvjhFE",
        "colab_type": "code",
        "outputId": "4282d761-a4af-4c1a-c590-5a4efd12af4f",
        "colab": {
          "base_uri": "https://localhost:8080/",
          "height": 34
        }
      },
      "source": [
        "weights = model.layers[0].get_weights()[0]\n",
        "print(weights.shape) # shape: (vocab_size, embedding_dim)"
      ],
      "execution_count": 21,
      "outputs": [
        {
          "output_type": "stream",
          "text": [
            "(10000, 16)\n"
          ],
          "name": "stdout"
        }
      ]
    },
    {
      "cell_type": "code",
      "metadata": {
        "id": "jJEyGMZLTCcX",
        "colab_type": "code",
        "outputId": "bce61cdc-ebc2-477c-da2d-b225d70dd9cc",
        "colab": {
          "base_uri": "https://localhost:8080/",
          "height": 224
        }
      },
      "source": [
        "reverse_word_index = dict([(value, key) for (key, value) in train_word_index.items()])\n",
        "\n",
        "def decode_review(text):\n",
        "    return ' '.join([reverse_word_index.get(i, '?') for i in text])\n",
        "print(train_padded[1])\n",
        "print(decode_review(train_padded[1]))\n",
        "print(train_sents[1])"
      ],
      "execution_count": 22,
      "outputs": [
        {
          "output_type": "stream",
          "text": [
            "[   0    0    0    0    0    0    0  256   28   78  585    6  815 2383\n",
            "  317  109   19   12    7  643  696    6    4 2249    5  183  599   68\n",
            " 1483  114 2289    3 4005   22    2    1    3  263   43 4754    4  173\n",
            "  190   22   12 4126   11 1604 2383   87    2   20   14 1945    2  115\n",
            "  950   14 1838 1367  563    3  365  183  477    6  602   19   17   61\n",
            " 1845    5   51   14 4090   98   42  138   11  983   11  200   28 1059\n",
            "  171    5    2   20   19   11  298    2 2182    5   10    3  285   43\n",
            "  477    6  602    5   94  203    1  206  102  148 4450   16  228  336\n",
            "   11 2510  392   12   20   32   31   47]\n",
            "? ? ? ? ? ? ? b'i have been known to fall asleep during films but this is usually due to a combination of things including really tired being warm and comfortable on the <OOV> and having just eaten a lot however on this occasion i fell asleep because the film was rubbish the plot development was constant constantly slow and boring things seemed to happen but with no explanation of what was causing them or why i admit i may have missed part of the film but i watched the majority of it and everything just seemed to happen of its own <OOV> without any real concern for anything else i cant recommend this film at all '\n",
            "b'I have been known to fall asleep during films, but this is usually due to a combination of things including, really tired, being warm and comfortable on the sette and having just eaten a lot. However on this occasion I fell asleep because the film was rubbish. The plot development was constant. Constantly slow and boring. Things seemed to happen, but with no explanation of what was causing them or why. I admit, I may have missed part of the film, but i watched the majority of it and everything just seemed to happen of its own accord without any real concern for anything else. I cant recommend this film at all.'\n"
          ],
          "name": "stdout"
        }
      ]
    },
    {
      "cell_type": "code",
      "metadata": {
        "id": "B28-BhdwjcfJ",
        "colab_type": "code",
        "colab": {}
      },
      "source": [
        "vectors_file = io.open('vectors.tsv', 'w', encoding='utf-8')\n",
        "words_file = io.open('words.tsv', 'w', encoding='utf-8')\n",
        "\n",
        "for word_num in range(1, vocab_size):\n",
        "  word = reverse_word_index[word_num]\n",
        "  embeddings = weights[word_num]\n",
        "  words_file.write(word + \"\\n\")\n",
        "  vectors_file.write('\\t'.join([str(x) for x in embeddings]) + \"\\n\")\n",
        "vectors_file.close()\n",
        "words_file.close()"
      ],
      "execution_count": 0,
      "outputs": []
    },
    {
      "cell_type": "code",
      "metadata": {
        "id": "v1Sy6LLIIsYk",
        "colab_type": "code",
        "colab": {
          "base_uri": "https://localhost:8080/",
          "height": 343
        },
        "outputId": "124f5399-cf6b-4e7d-8841-a280dfeac84c"
      },
      "source": [
        "sentence = [\"I really think this is amazing. honest.\"]\n",
        "sequence = tokenizer.texts_to_sequences(sentence)\n",
        "print(sequence)\n",
        "padded = pad_sequences(sequence, maxlen=max_len, truncating=trunc_type)\n",
        "print(padded)\n",
        "print(model.predict(padded))\n",
        "print(model.predict_classes(padded))"
      ],
      "execution_count": 24,
      "outputs": [
        {
          "output_type": "stream",
          "text": [
            "[[11, 68, 105, 12, 7, 491, 1216]]\n",
            "[[   0    0    0    0    0    0    0    0    0    0    0    0    0    0\n",
            "     0    0    0    0    0    0    0    0    0    0    0    0    0    0\n",
            "     0    0    0    0    0    0    0    0    0    0    0    0    0    0\n",
            "     0    0    0    0    0    0    0    0    0    0    0    0    0    0\n",
            "     0    0    0    0    0    0    0    0    0    0    0    0    0    0\n",
            "     0    0    0    0    0    0    0    0    0    0    0    0    0    0\n",
            "     0    0    0    0    0    0    0    0    0    0    0    0    0    0\n",
            "     0    0    0    0    0    0    0    0    0    0    0    0    0    0\n",
            "     0   11   68  105   12    7  491 1216]]\n",
            "[[0.97639674]]\n",
            "WARNING:tensorflow:From <ipython-input-24-3c37da8c3421>:7: Sequential.predict_classes (from tensorflow.python.keras.engine.sequential) is deprecated and will be removed after 2021-01-01.\n",
            "Instructions for updating:\n",
            "Please use instead:* `np.argmax(model.predict(x), axis=-1)`,   if your model does multi-class classification   (e.g. if it uses a `softmax` last-layer activation).* `(model.predict(x) > 0.5).astype(\"int32\")`,   if your model does binary classification   (e.g. if it uses a `sigmoid` last-layer activation).\n"
          ],
          "name": "stdout"
        },
        {
          "output_type": "stream",
          "text": [
            "WARNING:tensorflow:From <ipython-input-24-3c37da8c3421>:7: Sequential.predict_classes (from tensorflow.python.keras.engine.sequential) is deprecated and will be removed after 2021-01-01.\n",
            "Instructions for updating:\n",
            "Please use instead:* `np.argmax(model.predict(x), axis=-1)`,   if your model does multi-class classification   (e.g. if it uses a `softmax` last-layer activation).* `(model.predict(x) > 0.5).astype(\"int32\")`,   if your model does binary classification   (e.g. if it uses a `sigmoid` last-layer activation).\n"
          ],
          "name": "stderr"
        },
        {
          "output_type": "stream",
          "text": [
            "[[1]]\n"
          ],
          "name": "stdout"
        }
      ]
    },
    {
      "cell_type": "code",
      "metadata": {
        "id": "_i--PO-sFwW_",
        "colab_type": "code",
        "colab": {}
      },
      "source": [
        "# files.download(\"vectors.tsv\")\n",
        "# files.download(\"words.tsv\")"
      ],
      "execution_count": 0,
      "outputs": []
    },
    {
      "cell_type": "markdown",
      "metadata": {
        "id": "E-q2ZUJCMTla",
        "colab_type": "text"
      },
      "source": [
        "# Lesson 2 is the same as lesson 1, but on the sarcasm dataset, so I skipped it."
      ]
    },
    {
      "cell_type": "markdown",
      "metadata": {
        "id": "PJBVvsFUMPat",
        "colab_type": "text"
      },
      "source": [
        "# Lesson 3 "
      ]
    },
    {
      "cell_type": "code",
      "metadata": {
        "id": "hf8QLCwjMhHP",
        "colab_type": "code",
        "colab": {
          "base_uri": "https://localhost:8080/",
          "height": 54
        },
        "outputId": "f03180b5-b7b8-44e5-a4da-2cbc1329df78"
      },
      "source": [
        "imdb, info = tfds.load(\"imdb_reviews/subwords8k\", with_info=True, as_supervised=True)\n",
        "train_data, test_data = imdb['train'], imdb['test']\n",
        "tokenizer = info.features['text'].encoder\n",
        "print(tokenizer.subwords[:40])"
      ],
      "execution_count": 26,
      "outputs": [
        {
          "output_type": "stream",
          "text": [
            "['the_', ', ', '. ', 'a_', 'and_', 'of_', 'to_', 's_', 'is_', 'br', 'in_', 'I_', 'that_', 'this_', 'it_', ' /><', ' />', 'was_', 'The_', 'as_', 't_', 'with_', 'for_', '.<', 'on_', 'but_', 'movie_', ' (', 'are_', 'his_', 'have_', 'film_', 'not_', 'ing_', 'be_', 'ed_', 'you_', ' \"', 'it', 'd_']\n"
          ],
          "name": "stdout"
        }
      ]
    },
    {
      "cell_type": "code",
      "metadata": {
        "id": "8FfIon5QqXEA",
        "colab_type": "code",
        "colab": {}
      },
      "source": [
        "train_seqs = []\n",
        "train_labels = []\n",
        "test_seqs = []\n",
        "test_labels = []\n",
        "\n",
        "for s,l in train_data:\n",
        "  train_seqs.append(s.numpy())\n",
        "  train_labels.append(l.numpy())\n",
        "\n",
        "for s,l in test_data:\n",
        "  test_seqs.append(s.numpy())\n",
        "  test_labels.append(l.numpy())\n",
        "\n",
        "train_labels = np.array(train_labels)\n",
        "test_labels = np.array(test_labels)"
      ],
      "execution_count": 0,
      "outputs": []
    },
    {
      "cell_type": "code",
      "metadata": {
        "id": "HngXKJE5qfm5",
        "colab_type": "code",
        "colab": {}
      },
      "source": [
        "vocab_size = 10000\n",
        "max_len = 1000\n",
        "trunc_type = \"post\"\n",
        "oov_token = \"<OOV>\"\n",
        "embedding_dim = 64"
      ],
      "execution_count": 0,
      "outputs": []
    },
    {
      "cell_type": "code",
      "metadata": {
        "id": "U-PuNOHCqwhJ",
        "colab_type": "code",
        "colab": {}
      },
      "source": [
        "train_padded = pad_sequences(train_seqs,maxlen=max_len, truncating=trunc_type)\n",
        "\n",
        "test_padded = pad_sequences(test_seqs,maxlen=max_len)"
      ],
      "execution_count": 0,
      "outputs": []
    },
    {
      "cell_type": "code",
      "metadata": {
        "id": "p2tDf0rWpWnA",
        "colab_type": "code",
        "colab": {
          "base_uri": "https://localhost:8080/",
          "height": 238
        },
        "outputId": "ddceb896-32fd-4320-c9ff-cfdc6d9ab76f"
      },
      "source": [
        "sample_string = 'TensorFlow, from basics to mastery'\n",
        "\n",
        "tokenized_string = tokenizer.encode(sample_string)\n",
        "print ('Tokenized string is {}'.format(tokenized_string))\n",
        "\n",
        "original_string = tokenizer.decode(tokenized_string)\n",
        "print ('The original string: {}'.format(original_string))\n",
        "\n",
        "for ts in tokenized_string:\n",
        "  print ('{} ----> {}'.format(ts, tokenizer.decode([ts])))"
      ],
      "execution_count": 30,
      "outputs": [
        {
          "output_type": "stream",
          "text": [
            "Tokenized string is [6307, 2327, 4043, 2120, 2, 48, 4249, 4429, 7, 2652, 8050]\n",
            "The original string: TensorFlow, from basics to mastery\n",
            "6307 ----> Ten\n",
            "2327 ----> sor\n",
            "4043 ----> Fl\n",
            "2120 ----> ow\n",
            "2 ----> , \n",
            "48 ----> from \n",
            "4249 ----> basi\n",
            "4429 ----> cs \n",
            "7 ----> to \n",
            "2652 ----> master\n",
            "8050 ----> y\n"
          ],
          "name": "stdout"
        }
      ]
    },
    {
      "cell_type": "code",
      "metadata": {
        "id": "3Gd_W8EnpCJy",
        "colab_type": "code",
        "colab": {
          "base_uri": "https://localhost:8080/",
          "height": 289
        },
        "outputId": "6909b9d5-e674-41b3-a2ed-9ae1c7abfbfc"
      },
      "source": [
        "model = tf.keras.Sequential([\n",
        "    tf.keras.layers.Embedding(tokenizer.vocab_size, embedding_dim),\n",
        "    tf.keras.layers.GlobalAveragePooling1D(),\n",
        "    tf.keras.layers.Dense(6, activation='relu'),\n",
        "    tf.keras.layers.Dense(1, activation='sigmoid')\n",
        "])\n",
        "model.compile(loss='binary_crossentropy',optimizer='adam',metrics=['accuracy'])\n",
        "\n",
        "model.summary()"
      ],
      "execution_count": 31,
      "outputs": [
        {
          "output_type": "stream",
          "text": [
            "Model: \"sequential_2\"\n",
            "_________________________________________________________________\n",
            "Layer (type)                 Output Shape              Param #   \n",
            "=================================================================\n",
            "embedding_2 (Embedding)      (None, None, 64)          523840    \n",
            "_________________________________________________________________\n",
            "global_average_pooling1d (Gl (None, 64)                0         \n",
            "_________________________________________________________________\n",
            "dense_4 (Dense)              (None, 6)                 390       \n",
            "_________________________________________________________________\n",
            "dense_5 (Dense)              (None, 1)                 7         \n",
            "=================================================================\n",
            "Total params: 524,237\n",
            "Trainable params: 524,237\n",
            "Non-trainable params: 0\n",
            "_________________________________________________________________\n"
          ],
          "name": "stdout"
        }
      ]
    },
    {
      "cell_type": "code",
      "metadata": {
        "id": "Nx1auXelVfuU",
        "colab_type": "code",
        "colab": {
          "base_uri": "https://localhost:8080/",
          "height": 357
        },
        "outputId": "e6b6dc56-dafe-47db-deb1-5882e65e96ba"
      },
      "source": [
        "# history = model.fit(train_data, epochs=10, validation_data=test_data)\n",
        "history = model.fit(train_padded, train_labels, epochs=10, validation_data=(test_padded, test_labels))"
      ],
      "execution_count": 32,
      "outputs": [
        {
          "output_type": "stream",
          "text": [
            "Epoch 1/10\n",
            "782/782 [==============================] - 14s 19ms/step - loss: 0.6351 - accuracy: 0.6656 - val_loss: 0.5100 - val_accuracy: 0.7854\n",
            "Epoch 2/10\n",
            "782/782 [==============================] - 14s 18ms/step - loss: 0.3841 - accuracy: 0.8608 - val_loss: 0.3493 - val_accuracy: 0.8636\n",
            "Epoch 3/10\n",
            "782/782 [==============================] - 14s 18ms/step - loss: 0.2814 - accuracy: 0.8966 - val_loss: 0.3152 - val_accuracy: 0.8740\n",
            "Epoch 4/10\n",
            "782/782 [==============================] - 14s 18ms/step - loss: 0.2362 - accuracy: 0.9134 - val_loss: 0.3078 - val_accuracy: 0.8777\n",
            "Epoch 5/10\n",
            "782/782 [==============================] - 14s 18ms/step - loss: 0.2089 - accuracy: 0.9220 - val_loss: 0.3029 - val_accuracy: 0.8793\n",
            "Epoch 6/10\n",
            "782/782 [==============================] - 15s 19ms/step - loss: 0.1888 - accuracy: 0.9314 - val_loss: 0.3346 - val_accuracy: 0.8684\n",
            "Epoch 7/10\n",
            "782/782 [==============================] - 14s 18ms/step - loss: 0.1718 - accuracy: 0.9383 - val_loss: 0.3546 - val_accuracy: 0.8589\n",
            "Epoch 8/10\n",
            "782/782 [==============================] - 14s 18ms/step - loss: 0.1578 - accuracy: 0.9432 - val_loss: 0.3275 - val_accuracy: 0.8783\n",
            "Epoch 9/10\n",
            "782/782 [==============================] - 15s 19ms/step - loss: 0.1439 - accuracy: 0.9498 - val_loss: 0.3476 - val_accuracy: 0.8724\n",
            "Epoch 10/10\n",
            "782/782 [==============================] - 14s 18ms/step - loss: 0.1350 - accuracy: 0.9529 - val_loss: 0.3551 - val_accuracy: 0.8727\n"
          ],
          "name": "stdout"
        }
      ]
    },
    {
      "cell_type": "code",
      "metadata": {
        "id": "ApHEkBpDViFc",
        "colab_type": "code",
        "colab": {
          "base_uri": "https://localhost:8080/",
          "height": 541
        },
        "outputId": "18b5d70f-0a85-467c-9e12-0c2f1360da0f"
      },
      "source": [
        "def plot_graphs(history, string):\n",
        "  plt.plot(history.history[string])\n",
        "  plt.plot(history.history['val_'+string])\n",
        "  plt.xlabel(\"Epochs\")\n",
        "  plt.ylabel(string)\n",
        "  plt.legend([string, 'val_'+string])\n",
        "  plt.show()\n",
        "  \n",
        "plot_graphs(history, \"accuracy\")\n",
        "plot_graphs(history, \"loss\")"
      ],
      "execution_count": 33,
      "outputs": [
        {
          "output_type": "display_data",
          "data": {
            "image/png": "[encoded data removed]",
            "text/plain": [
              "<Figure size 432x288 with 1 Axes>"
            ]
          },
          "metadata": {
            "tags": [],
            "needs_background": "light"
          }
        },
        {
          "output_type": "display_data",
          "data": {
            "image/png": "[encoded data removed]",
            "text/plain": [
              "<Figure size 432x288 with 1 Axes>"
            ]
          },
          "metadata": {
            "tags": [],
            "needs_background": "light"
          }
        }
      ]
    },
    {
      "cell_type": "code",
      "metadata": {
        "id": "_wi1oeqtruun",
        "colab_type": "code",
        "colab": {
          "base_uri": "https://localhost:8080/",
          "height": 68
        },
        "outputId": "d16c1014-6525-4c97-c49f-1f8dddb5c2e8"
      },
      "source": [
        "sentence = \"I really think this is amazing. honest.\"\n",
        "sequence = [tokenizer.encode(sentence)]\n",
        "print(sequence)\n",
        "padded = pad_sequences(sequence, maxlen=max_len, truncating=trunc_type)\n",
        "print(model.predict(padded))\n",
        "print(model.predict_classes(padded))"
      ],
      "execution_count": 34,
      "outputs": [
        {
          "output_type": "stream",
          "text": [
            "[[12, 81, 129, 14, 9, 2266, 3, 3275, 7975]]\n",
            "[[0.7603581]]\n",
            "[[1]]\n"
          ],
          "name": "stdout"
        }
      ]
    },
    {
      "cell_type": "code",
      "metadata": {
        "id": "z46Og7JGtL2o",
        "colab_type": "code",
        "colab": {
          "base_uri": "https://localhost:8080/",
          "height": 34
        },
        "outputId": "b47e5cf5-9d0f-4c80-b954-11169115bdde"
      },
      "source": [
        "e = model.layers[0]\n",
        "weights = e.get_weights()[0]\n",
        "print(weights.shape) # shape: (vocab_size, embedding_dim)\n",
        "\n",
        "import io\n",
        "\n",
        "out_v = io.open('vecs.tsv', 'w', encoding='utf-8')\n",
        "out_m = io.open('meta.tsv', 'w', encoding='utf-8')\n",
        "for word_num in range(1, tokenizer.vocab_size):\n",
        "  word = tokenizer.decode([word_num])\n",
        "  embeddings = weights[word_num]\n",
        "  out_m.write(word + \"\\n\")\n",
        "  out_v.write('\\t'.join([str(x) for x in embeddings]) + \"\\n\")\n",
        "out_v.close()\n",
        "out_m.close()"
      ],
      "execution_count": 35,
      "outputs": [
        {
          "output_type": "stream",
          "text": [
            "(8185, 64)\n"
          ],
          "name": "stdout"
        }
      ]
    },
    {
      "cell_type": "code",
      "metadata": {
        "id": "etz4hGkatOba",
        "colab_type": "code",
        "colab": {}
      },
      "source": [
        "# files.download('vecs.tsv')\n",
        "# files.download('meta.tsv')"
      ],
      "execution_count": 0,
      "outputs": []
    }
  ]
}