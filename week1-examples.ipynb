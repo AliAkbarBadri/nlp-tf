{
  "nbformat": 4,
  "nbformat_minor": 0,
  "metadata": {
    "colab": {
      "name": "week1-examples.ipynb",
      "provenance": [],
      "collapsed_sections": [],
      "authorship_tag": "ABX9TyPlFJZryhToscupG9mQl1nG",
      "include_colab_link": true
    },
    "kernelspec": {
      "name": "python3",
      "display_name": "Python 3"
    }
  },
  "cells": [
    {
      "cell_type": "markdown",
      "metadata": {
        "id": "view-in-github",
        "colab_type": "text"
      },
      "source": [
        "<a href=\"https://colab.research.google.com/github/aliakbarbadri/nlp-tf/blob/master/week1-examples.ipynb\" target=\"_parent\"><img src=\"https://colab.research.google.com/assets/colab-badge.svg\" alt=\"Open In Colab\"/></a>"
      ]
    },
    {
      "cell_type": "code",
      "metadata": {
        "id": "sUCc3kQrirfk",
        "colab_type": "code",
        "colab": {}
      },
      "source": [
        "import tensorflow as tf\n",
        "from tensorflow import keras\n",
        "from tensorflow.keras.preprocessing.text import Tokenizer\n",
        "from tensorflow.keras.preprocessing.sequence import pad_sequences\n",
        "import json"
      ],
      "execution_count": 0,
      "outputs": []
    },
    {
      "cell_type": "markdown",
      "metadata": {
        "id": "iYkwf6WfudYd",
        "colab_type": "text"
      },
      "source": [
        "# Lesson 1 and Lesson 2"
      ]
    },
    {
      "cell_type": "code",
      "metadata": {
        "id": "01Mk3LdrkESy",
        "colab_type": "code",
        "colab": {}
      },
      "source": [
        "train_sentences = [\n",
        "                   \"i love my dog\",\n",
        "                   \"I, love my dog!\",\n",
        "                   \"i love my cat\",\n",
        "                   \"this is a longer sentence to test padding\"\n",
        "]"
      ],
      "execution_count": 0,
      "outputs": []
    },
    {
      "cell_type": "code",
      "metadata": {
        "id": "pJZY4lxNmj8f",
        "colab_type": "code",
        "colab": {
          "base_uri": "https://localhost:8080/",
          "height": 255
        },
        "outputId": "3fd08971-f673-4872-dd01-0025c47ec820"
      },
      "source": [
        "tokenizer = Tokenizer(num_words=100, oov_token=\"<oov>\")\n",
        "tokenizer.fit_on_texts(train_sentences)\n",
        "word_index = tokenizer.word_index\n",
        "word_index"
      ],
      "execution_count": 3,
      "outputs": [
        {
          "output_type": "execute_result",
          "data": {
            "text/plain": [
              "{'<oov>': 1,\n",
              " 'a': 9,\n",
              " 'cat': 6,\n",
              " 'dog': 5,\n",
              " 'i': 2,\n",
              " 'is': 8,\n",
              " 'longer': 10,\n",
              " 'love': 3,\n",
              " 'my': 4,\n",
              " 'padding': 14,\n",
              " 'sentence': 11,\n",
              " 'test': 13,\n",
              " 'this': 7,\n",
              " 'to': 12}"
            ]
          },
          "metadata": {
            "tags": []
          },
          "execution_count": 3
        }
      ]
    },
    {
      "cell_type": "code",
      "metadata": {
        "id": "YEP2TiWXm_3p",
        "colab_type": "code",
        "colab": {
          "base_uri": "https://localhost:8080/",
          "height": 34
        },
        "outputId": "3db1a3c7-e128-4328-e892-fc69cd5a0b97"
      },
      "source": [
        "sequences = tokenizer.texts_to_sequences(train_sentences)\n",
        "sequences"
      ],
      "execution_count": 4,
      "outputs": [
        {
          "output_type": "execute_result",
          "data": {
            "text/plain": [
              "[[2, 3, 4, 5], [2, 3, 4, 5], [2, 3, 4, 6], [7, 8, 9, 10, 11, 12, 13, 14]]"
            ]
          },
          "metadata": {
            "tags": []
          },
          "execution_count": 4
        }
      ]
    },
    {
      "cell_type": "code",
      "metadata": {
        "id": "cF-KnpXYnUeA",
        "colab_type": "code",
        "colab": {
          "base_uri": "https://localhost:8080/",
          "height": 85
        },
        "outputId": "f0c897ee-80b3-444b-8608-3956a84e8a4c"
      },
      "source": [
        "padded = pad_sequences(sequences, maxlen=8, padding=\"pre\")\n",
        "padded"
      ],
      "execution_count": 5,
      "outputs": [
        {
          "output_type": "execute_result",
          "data": {
            "text/plain": [
              "array([[ 0,  0,  0,  0,  2,  3,  4,  5],\n",
              "       [ 0,  0,  0,  0,  2,  3,  4,  5],\n",
              "       [ 0,  0,  0,  0,  2,  3,  4,  6],\n",
              "       [ 7,  8,  9, 10, 11, 12, 13, 14]], dtype=int32)"
            ]
          },
          "metadata": {
            "tags": []
          },
          "execution_count": 5
        }
      ]
    },
    {
      "cell_type": "code",
      "metadata": {
        "id": "T9hyCQ5Jn2G6",
        "colab_type": "code",
        "colab": {}
      },
      "source": [
        "test_sentences = [\n",
        "                  \"Stress will kill you!\",\n",
        "                  \"I love you\"\n",
        "]"
      ],
      "execution_count": 0,
      "outputs": []
    },
    {
      "cell_type": "code",
      "metadata": {
        "id": "44jF-JV6s4Iq",
        "colab_type": "code",
        "colab": {
          "base_uri": "https://localhost:8080/",
          "height": 34
        },
        "outputId": "b1ef7172-61ac-4c43-c7e2-aa755bd8a035"
      },
      "source": [
        "test_sequences = tokenizer.texts_to_sequences(test_sentences)\n",
        "test_sequences"
      ],
      "execution_count": 7,
      "outputs": [
        {
          "output_type": "execute_result",
          "data": {
            "text/plain": [
              "[[1, 1, 1, 1], [2, 3, 1]]"
            ]
          },
          "metadata": {
            "tags": []
          },
          "execution_count": 7
        }
      ]
    },
    {
      "cell_type": "code",
      "metadata": {
        "id": "Wdi_ZLAMtCqf",
        "colab_type": "code",
        "colab": {
          "base_uri": "https://localhost:8080/",
          "height": 51
        },
        "outputId": "5d1f439e-9c1b-4740-ca9c-0ed70b3b3dbb"
      },
      "source": [
        "padded = pad_sequences(test_sequences, padding=\"post\")\n",
        "padded"
      ],
      "execution_count": 8,
      "outputs": [
        {
          "output_type": "execute_result",
          "data": {
            "text/plain": [
              "array([[1, 1, 1, 1],\n",
              "       [2, 3, 1, 0]], dtype=int32)"
            ]
          },
          "metadata": {
            "tags": []
          },
          "execution_count": 8
        }
      ]
    },
    {
      "cell_type": "markdown",
      "metadata": {
        "id": "ejzmYbemulhd",
        "colab_type": "text"
      },
      "source": [
        "# Lesson 3"
      ]
    },
    {
      "cell_type": "code",
      "metadata": {
        "id": "H36GMaSXupao",
        "colab_type": "code",
        "colab": {
          "base_uri": "https://localhost:8080/",
          "height": 204
        },
        "outputId": "1f2be579-a89e-4fdb-8242-31fa3bada543"
      },
      "source": [
        "!wget https://raw.githubusercontent.com/aliakbarbadri/nlp-tf/master/Sarcasm_Headlines_Dataset_v2.json \\\n",
        "    -O /tmp/sarcasm.json"
      ],
      "execution_count": 9,
      "outputs": [
        {
          "output_type": "stream",
          "text": [
            "--2020-05-12 12:23:53--  https://raw.githubusercontent.com/aliakbarbadri/nlp-tf/master/Sarcasm_Headlines_Dataset_v2.json\n",
            "Resolving raw.githubusercontent.com (raw.githubusercontent.com)... 151.101.0.133, 151.101.64.133, 151.101.128.133, ...\n",
            "Connecting to raw.githubusercontent.com (raw.githubusercontent.com)|151.101.0.133|:443... connected.\n",
            "HTTP request sent, awaiting response... 200 OK\n",
            "Length: 6057046 (5.8M) [text/plain]\n",
            "Saving to: ‘/tmp/sarcasm.json’\n",
            "\n",
            "\r/tmp/sarcasm.json     0%[                    ]       0  --.-KB/s               \r/tmp/sarcasm.json   100%[===================>]   5.78M  --.-KB/s    in 0.1s    \n",
            "\n",
            "2020-05-12 12:23:53 (50.7 MB/s) - ‘/tmp/sarcasm.json’ saved [6057046/6057046]\n",
            "\n"
          ],
          "name": "stdout"
        }
      ]
    },
    {
      "cell_type": "code",
      "metadata": {
        "id": "sqB_KbJ6xNT2",
        "colab_type": "code",
        "colab": {
          "base_uri": "https://localhost:8080/",
          "height": 85
        },
        "outputId": "d751a839-80f5-43da-e927-5172b2555ef6"
      },
      "source": [
        "sarcasm_data = [json.loads(line) for line in open('/tmp/sarcasm.json', 'r')]\n",
        "len(sarcasm_data), sarcasm_data[0]"
      ],
      "execution_count": 10,
      "outputs": [
        {
          "output_type": "execute_result",
          "data": {
            "text/plain": [
              "(28619,\n",
              " {'article_link': 'https://www.theonion.com/thirtysomething-scientists-unveil-doomsday-clock-of-hai-1819586205',\n",
              "  'headline': 'thirtysomething scientists unveil doomsday clock of hair loss',\n",
              "  'is_sarcastic': 1})"
            ]
          },
          "metadata": {
            "tags": []
          },
          "execution_count": 10
        }
      ]
    },
    {
      "cell_type": "code",
      "metadata": {
        "id": "GWyD9IwHyz96",
        "colab_type": "code",
        "colab": {}
      },
      "source": [
        "sarcasm_sentences = [] \n",
        "sarcasm_labels = []\n",
        "sarcasm_urls = []\n",
        "for item in sarcasm_data:\n",
        "    sarcasm_sentences.append(item['headline'])\n",
        "    sarcasm_labels.append(item['is_sarcastic'])\n",
        "    sarcasm_urls.append(item['article_link'])"
      ],
      "execution_count": 0,
      "outputs": []
    },
    {
      "cell_type": "code",
      "metadata": {
        "id": "HQATQswyzHmZ",
        "colab_type": "code",
        "colab": {
          "base_uri": "https://localhost:8080/",
          "height": 374
        },
        "outputId": "e9698c61-1c40-461c-f46d-ed925455fe3b"
      },
      "source": [
        "tokenizer.fit_on_texts(sarcasm_sentences)\n",
        "sarcasm_word_index = tokenizer.word_index\n",
        "print(\"sarcasm_word_index length =\",len(sarcasm_word_index))\n",
        "for key in list(sarcasm_word_index)[0:20]:\n",
        "    print(key,sarcasm_word_index[key])"
      ],
      "execution_count": 12,
      "outputs": [
        {
          "output_type": "stream",
          "text": [
            "sarcasm_word_index length = 30886\n",
            "<oov> 1\n",
            "to 2\n",
            "of 3\n",
            "the 4\n",
            "in 5\n",
            "for 6\n",
            "a 7\n",
            "on 8\n",
            "and 9\n",
            "with 10\n",
            "is 11\n",
            "new 12\n",
            "trump 13\n",
            "man 14\n",
            "at 15\n",
            "from 16\n",
            "about 17\n",
            "by 18\n",
            "after 19\n",
            "you 20\n"
          ],
          "name": "stdout"
        }
      ]
    },
    {
      "cell_type": "code",
      "metadata": {
        "id": "927luIE8zSnb",
        "colab_type": "code",
        "colab": {
          "base_uri": "https://localhost:8080/",
          "height": 170
        },
        "outputId": "d4e52b31-5f86-41ba-b349-29e5ac202acd"
      },
      "source": [
        "sarcasm_sequences = tokenizer.texts_to_sequences(sarcasm_sentences)\n",
        "sarcasm_padded = pad_sequences(sarcasm_sequences, padding='post')\n",
        "sarcasm_padded.shape, sarcasm_padded[0]"
      ],
      "execution_count": 13,
      "outputs": [
        {
          "output_type": "execute_result",
          "data": {
            "text/plain": [
              "((28619, 152),\n",
              " array([1, 1, 1, 1, 1, 3, 1, 1, 0, 0, 0, 0, 0, 0, 0, 0, 0, 0, 0, 0, 0, 0,\n",
              "        0, 0, 0, 0, 0, 0, 0, 0, 0, 0, 0, 0, 0, 0, 0, 0, 0, 0, 0, 0, 0, 0,\n",
              "        0, 0, 0, 0, 0, 0, 0, 0, 0, 0, 0, 0, 0, 0, 0, 0, 0, 0, 0, 0, 0, 0,\n",
              "        0, 0, 0, 0, 0, 0, 0, 0, 0, 0, 0, 0, 0, 0, 0, 0, 0, 0, 0, 0, 0, 0,\n",
              "        0, 0, 0, 0, 0, 0, 0, 0, 0, 0, 0, 0, 0, 0, 0, 0, 0, 0, 0, 0, 0, 0,\n",
              "        0, 0, 0, 0, 0, 0, 0, 0, 0, 0, 0, 0, 0, 0, 0, 0, 0, 0, 0, 0, 0, 0,\n",
              "        0, 0, 0, 0, 0, 0, 0, 0, 0, 0, 0, 0, 0, 0, 0, 0, 0, 0, 0, 0],\n",
              "       dtype=int32))"
            ]
          },
          "metadata": {
            "tags": []
          },
          "execution_count": 13
        }
      ]
    }
  ]
}