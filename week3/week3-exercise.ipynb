{
  "nbformat": 4,
  "nbformat_minor": 0,
  "metadata": {
    "colab": {
      "name": "tempo.ipynb",
      "provenance": [],
      "include_colab_link": true
    },
    "kernelspec": {
      "name": "python3",
      "display_name": "Python 3"
    },
    "accelerator": "GPU"
  },
  "cells": [
    {
      "cell_type": "markdown",
      "metadata": {
        "id": "view-in-github",
        "colab_type": "text"
      },
      "source": [
        "<a href=\"https://colab.research.google.com/github/aliakbarbadri/nlp-tf/blob/master/week3/week3-exercise.ipynb\" target=\"_parent\"><img src=\"https://colab.research.google.com/assets/colab-badge.svg\" alt=\"Open In Colab\"/></a>"
      ]
    },
    {
      "cell_type": "code",
      "metadata": {
        "id": "IwnjPKxMIUML",
        "colab_type": "code",
        "colab": {
          "base_uri": "https://localhost:8080/",
          "height": 187
        },
        "outputId": "0584a574-c862-4f25-9a53-218a314eea9d"
      },
      "source": [
        "! mkdir ~/.kaggle\n",
        "! cp kaggle.json ~/.kaggle\n",
        "! chmod 600 ~/.kaggle/kaggle.json\n",
        "! kaggle datasets download -d kazanova/sentiment140\n",
        "! unzip sentiment140.zip \n",
        "! kaggle datasets download -d terenceliu4444/glove6b100dtxt\n",
        "! unzip glove6b100dtxt.zip"
      ],
      "execution_count": 1,
      "outputs": [
        {
          "output_type": "stream",
          "text": [
            "Downloading sentiment140.zip to /content\n",
            " 90% 73.0M/80.9M [00:02<00:00, 27.7MB/s]\n",
            "100% 80.9M/80.9M [00:02<00:00, 39.1MB/s]\n",
            "Archive:  sentiment140.zip\n",
            "  inflating: training.1600000.processed.noemoticon.csv  \n",
            "Downloading glove6b100dtxt.zip to /content\n",
            " 92% 121M/131M [00:02<00:00, 38.4MB/s]\n",
            "100% 131M/131M [00:03<00:00, 45.4MB/s]\n",
            "Archive:  glove6b100dtxt.zip\n",
            "  inflating: glove.6B.100d.txt       \n"
          ],
          "name": "stdout"
        }
      ]
    },
    {
      "cell_type": "code",
      "metadata": {
        "id": "Ej0eFpcAFaXI",
        "colab_type": "code",
        "colab": {}
      },
      "source": [
        "import json\n",
        "import tensorflow as tf\n",
        "import pandas as pd\n",
        "import random\n",
        "import numpy as np\n",
        "\n",
        "from tensorflow.keras.preprocessing.text import Tokenizer\n",
        "from tensorflow.keras.preprocessing.sequence import pad_sequences\n",
        "from tensorflow.keras.utils import to_categorical\n",
        "from tensorflow.keras import regularizers"
      ],
      "execution_count": 0,
      "outputs": []
    },
    {
      "cell_type": "code",
      "metadata": {
        "id": "ATBQTZ5pLs-e",
        "colab_type": "code",
        "colab": {
          "base_uri": "https://localhost:8080/",
          "height": 204
        },
        "outputId": "fc39be9b-1c0d-4008-f32f-5fe503b9f1de"
      },
      "source": [
        "csv = pd.read_csv(\"training.1600000.processed.noemoticon.csv\",encoding='latin-1',header=None,usecols=[0,5])\n",
        "csv.columns = ['label','tweet']\n",
        "csv.head(5)"
      ],
      "execution_count": 4,
      "outputs": [
        {
          "output_type": "execute_result",
          "data": {
            "text/html": [
              "<div>\n",
              "<style scoped>\n",
              "    .dataframe tbody tr th:only-of-type {\n",
              "        vertical-align: middle;\n",
              "    }\n",
              "\n",
              "    .dataframe tbody tr th {\n",
              "        vertical-align: top;\n",
              "    }\n",
              "\n",
              "    .dataframe thead th {\n",
              "        text-align: right;\n",
              "    }\n",
              "</style>\n",
              "<table border=\"1\" class=\"dataframe\">\n",
              "  <thead>\n",
              "    <tr style=\"text-align: right;\">\n",
              "      <th></th>\n",
              "      <th>label</th>\n",
              "      <th>tweet</th>\n",
              "    </tr>\n",
              "  </thead>\n",
              "  <tbody>\n",
              "    <tr>\n",
              "      <th>0</th>\n",
              "      <td>0</td>\n",
              "      <td>@switchfoot http://twitpic.com/2y1zl - Awww, t...</td>\n",
              "    </tr>\n",
              "    <tr>\n",
              "      <th>1</th>\n",
              "      <td>0</td>\n",
              "      <td>is upset that he can't update his Facebook by ...</td>\n",
              "    </tr>\n",
              "    <tr>\n",
              "      <th>2</th>\n",
              "      <td>0</td>\n",
              "      <td>@Kenichan I dived many times for the ball. Man...</td>\n",
              "    </tr>\n",
              "    <tr>\n",
              "      <th>3</th>\n",
              "      <td>0</td>\n",
              "      <td>my whole body feels itchy and like its on fire</td>\n",
              "    </tr>\n",
              "    <tr>\n",
              "      <th>4</th>\n",
              "      <td>0</td>\n",
              "      <td>@nationwideclass no, it's not behaving at all....</td>\n",
              "    </tr>\n",
              "  </tbody>\n",
              "</table>\n",
              "</div>"
            ],
            "text/plain": [
              "   label                                              tweet\n",
              "0      0  @switchfoot http://twitpic.com/2y1zl - Awww, t...\n",
              "1      0  is upset that he can't update his Facebook by ...\n",
              "2      0  @Kenichan I dived many times for the ball. Man...\n",
              "3      0    my whole body feels itchy and like its on fire \n",
              "4      0  @nationwideclass no, it's not behaving at all...."
            ]
          },
          "metadata": {
            "tags": []
          },
          "execution_count": 4
        }
      ]
    },
    {
      "cell_type": "code",
      "metadata": {
        "id": "NyFUVEzlRpUZ",
        "colab_type": "code",
        "colab": {
          "base_uri": "https://localhost:8080/",
          "height": 68
        },
        "outputId": "4cc2811d-2d73-4bf1-f4f8-fc8e9804fa17"
      },
      "source": [
        "csv.dtypes"
      ],
      "execution_count": 5,
      "outputs": [
        {
          "output_type": "execute_result",
          "data": {
            "text/plain": [
              "label     int64\n",
              "tweet    object\n",
              "dtype: object"
            ]
          },
          "metadata": {
            "tags": []
          },
          "execution_count": 5
        }
      ]
    },
    {
      "cell_type": "code",
      "metadata": {
        "id": "PEamXgaoRK-g",
        "colab_type": "code",
        "colab": {
          "base_uri": "https://localhost:8080/",
          "height": 34
        },
        "outputId": "1bcc540d-8005-422a-f1f9-9166f467db9c"
      },
      "source": [
        "pd.unique(csv['label'])"
      ],
      "execution_count": 6,
      "outputs": [
        {
          "output_type": "execute_result",
          "data": {
            "text/plain": [
              "array([0, 4])"
            ]
          },
          "metadata": {
            "tags": []
          },
          "execution_count": 6
        }
      ]
    },
    {
      "cell_type": "code",
      "metadata": {
        "id": "k8M8nH2DRyHU",
        "colab_type": "code",
        "colab": {
          "base_uri": "https://localhost:8080/",
          "height": 34
        },
        "outputId": "fac74a21-16c5-45bc-988f-fb439e206622"
      },
      "source": [
        "csv['label'].replace({4: 1}, inplace=True)\n",
        "pd.unique(csv['label'])"
      ],
      "execution_count": 7,
      "outputs": [
        {
          "output_type": "execute_result",
          "data": {
            "text/plain": [
              "array([0, 1])"
            ]
          },
          "metadata": {
            "tags": []
          },
          "execution_count": 7
        }
      ]
    },
    {
      "cell_type": "code",
      "metadata": {
        "id": "cVk0lsclFs7-",
        "colab_type": "code",
        "colab": {}
      },
      "source": [
        "num_sentences = csv.shape[0]\n",
        "corpus = csv"
      ],
      "execution_count": 0,
      "outputs": []
    },
    {
      "cell_type": "code",
      "metadata": {
        "id": "GsSFNLUBGEHI",
        "colab_type": "code",
        "colab": {
          "base_uri": "https://localhost:8080/",
          "height": 51
        },
        "outputId": "c2b223d6-693b-4743-e512-f5f4e2ab4956"
      },
      "source": [
        "print(csv.shape[0])\n",
        "print(list(csv.loc[1]))\n",
        "\n",
        "# Expected Output:\n",
        "# 1600000\n",
        "# [\"is upset that he can't update his Facebook by texting it... and might cry as a result  School today also. Blah!\", 0]"
      ],
      "execution_count": 9,
      "outputs": [
        {
          "output_type": "stream",
          "text": [
            "1600000\n",
            "[0, \"is upset that he can't update his Facebook by texting it... and might cry as a result  School today also. Blah!\"]\n"
          ],
          "name": "stdout"
        }
      ]
    },
    {
      "cell_type": "code",
      "metadata": {
        "id": "WS0Epdv6gvy0",
        "colab_type": "code",
        "colab": {
          "base_uri": "https://localhost:8080/",
          "height": 34
        },
        "outputId": "0391a9d2-8c6f-4446-b599-dafab2515f41"
      },
      "source": [
        "csv = csv.sample(frac = 1).reset_index(drop=True)\n",
        "list(csv.loc[1])"
      ],
      "execution_count": 10,
      "outputs": [
        {
          "output_type": "execute_result",
          "data": {
            "text/plain": [
              "[0, 'i thought that was it. ']"
            ]
          },
          "metadata": {
            "tags": []
          },
          "execution_count": 10
        }
      ]
    },
    {
      "cell_type": "code",
      "metadata": {
        "id": "nF-7m57sBgdp",
        "colab_type": "code",
        "colab": {}
      },
      "source": [
        "embedding_dim = 100\n",
        "max_length = 32\n",
        "trunc_type='post'\n",
        "padding_type='post'\n",
        "oov_tok = \"<OOV>\"\n",
        "training_size= 160000\n",
        "test_portion=.1"
      ],
      "execution_count": 0,
      "outputs": []
    },
    {
      "cell_type": "code",
      "metadata": {
        "id": "WNBt1e4fGPQQ",
        "colab_type": "code",
        "colab": {}
      },
      "source": [
        "sentences = list(csv['tweet'])[:training_size]\n",
        "labels= list(csv['label'])[:training_size]\n",
        "\n",
        "\n",
        "tokenizer = Tokenizer()\n",
        "tokenizer.fit_on_texts(sentences)\n",
        "\n",
        "word_index = tokenizer.word_index\n",
        "vocab_size=len(word_index)\n",
        "\n",
        "sequences = tokenizer.texts_to_sequences(sentences)\n",
        "padded = pad_sequences(sequences, maxlen=max_length, padding=padding_type, truncating=trunc_type)\n",
        "\n",
        "split = int(test_portion * training_size)\n",
        "\n",
        "test_sequences = np.array(padded[:split])\n",
        "training_sequences = np.array(padded[split:])\n",
        "test_labels = np.array(labels[:split])\n",
        "training_labels = np.array(labels[split:])"
      ],
      "execution_count": 0,
      "outputs": []
    },
    {
      "cell_type": "code",
      "metadata": {
        "id": "R7R4BqcSid4m",
        "colab_type": "code",
        "colab": {
          "base_uri": "https://localhost:8080/",
          "height": 34
        },
        "outputId": "68413e74-c214-4b95-eba4-2e17618479a1"
      },
      "source": [
        "split, len(sentences), len(training_sequences), len(test_sequences)"
      ],
      "execution_count": 36,
      "outputs": [
        {
          "output_type": "execute_result",
          "data": {
            "text/plain": [
              "(16000, 160000, 144000, 16000)"
            ]
          },
          "metadata": {
            "tags": []
          },
          "execution_count": 36
        }
      ]
    },
    {
      "cell_type": "code",
      "metadata": {
        "id": "H_bM7tkSIvRg",
        "colab_type": "code",
        "colab": {
          "base_uri": "https://localhost:8080/",
          "height": 51
        },
        "outputId": "057abfd2-3fa0-415f-bb8e-5cc23ffb55c2"
      },
      "source": [
        "print(vocab_size)\n",
        "print(word_index['i'])\n",
        "# Expected Output\n",
        "# 138737\n",
        "# 1"
      ],
      "execution_count": 37,
      "outputs": [
        {
          "output_type": "stream",
          "text": [
            "138766\n",
            "1\n"
          ],
          "name": "stdout"
        }
      ]
    },
    {
      "cell_type": "code",
      "metadata": {
        "id": "VTIVFHi7IxHE",
        "colab_type": "code",
        "colab": {}
      },
      "source": [
        "embeddings_index = {}\n",
        "with open('glove.6B.100d.txt') as f:\n",
        "    for line in f:\n",
        "        values = line.split()\n",
        "        word = values[0]\n",
        "        coefs = np.asarray(values[1:], dtype='float32')\n",
        "        embeddings_index[word] = coefs\n",
        "\n",
        "embeddings_matrix = np.zeros((vocab_size+1, embedding_dim))\n",
        "\n",
        "for word, i in word_index.items():\n",
        "    embedding_vector = embeddings_index.get(word)\n",
        "    if embedding_vector is not None:\n",
        "        embeddings_matrix[i] = embedding_vector"
      ],
      "execution_count": 0,
      "outputs": []
    },
    {
      "cell_type": "code",
      "metadata": {
        "id": "GUlsq7BwIzo9",
        "colab_type": "code",
        "colab": {
          "base_uri": "https://localhost:8080/",
          "height": 34
        },
        "outputId": "48437bcc-49eb-4d18-f9a0-961291fb7d84"
      },
      "source": [
        "print(len(embeddings_matrix))\n",
        "# Expected Output\n",
        "# 138738"
      ],
      "execution_count": 39,
      "outputs": [
        {
          "output_type": "stream",
          "text": [
            "138767\n"
          ],
          "name": "stdout"
        }
      ]
    },
    {
      "cell_type": "code",
      "metadata": {
        "id": "9DNarApS2hB8",
        "colab_type": "code",
        "colab": {
          "base_uri": "https://localhost:8080/",
          "height": 34
        },
        "outputId": "1f6738f7-8d00-4eef-f534-3c81616986ba"
      },
      "source": [
        "embeddings_matrix.shape"
      ],
      "execution_count": 40,
      "outputs": [
        {
          "output_type": "execute_result",
          "data": {
            "text/plain": [
              "(138767, 100)"
            ]
          },
          "metadata": {
            "tags": []
          },
          "execution_count": 40
        }
      ]
    },
    {
      "cell_type": "code",
      "metadata": {
        "id": "N_NPMzuPI1rl",
        "colab_type": "code",
        "colab": {
          "base_uri": "https://localhost:8080/",
          "height": 323
        },
        "outputId": "c5865fd1-2d7a-402f-8a3a-13691eae6c72"
      },
      "source": [
        "model = tf.keras.Sequential([\n",
        "    tf.keras.layers.Embedding(vocab_size+1, embedding_dim, input_length=max_length, weights=[embeddings_matrix], trainable=False),\n",
        "    tf.keras.layers.Bidirectional(tf.keras.layers.LSTM(64, return_sequences=True)),\n",
        "    tf.keras.layers.Bidirectional(tf.keras.layers.LSTM(32)),\n",
        "    tf.keras.layers.Dense(64, activation='relu'),\n",
        "    tf.keras.layers.Dense(1, activation='sigmoid')\n",
        "])\n",
        "model.compile(loss='binary_crossentropy',optimizer='adam',metrics=['accuracy'])\n",
        "model.summary()"
      ],
      "execution_count": 50,
      "outputs": [
        {
          "output_type": "stream",
          "text": [
            "Model: \"sequential_6\"\n",
            "_________________________________________________________________\n",
            "Layer (type)                 Output Shape              Param #   \n",
            "=================================================================\n",
            "embedding_6 (Embedding)      (None, 32, 100)           13876700  \n",
            "_________________________________________________________________\n",
            "bidirectional_5 (Bidirection (None, 32, 128)           84480     \n",
            "_________________________________________________________________\n",
            "bidirectional_6 (Bidirection (None, 64)                41216     \n",
            "_________________________________________________________________\n",
            "dense_9 (Dense)              (None, 64)                4160      \n",
            "_________________________________________________________________\n",
            "dense_10 (Dense)             (None, 1)                 65        \n",
            "=================================================================\n",
            "Total params: 14,006,621\n",
            "Trainable params: 129,921\n",
            "Non-trainable params: 13,876,700\n",
            "_________________________________________________________________\n"
          ],
          "name": "stdout"
        }
      ]
    },
    {
      "cell_type": "code",
      "metadata": {
        "id": "4FRtuzA_0dJI",
        "colab_type": "code",
        "colab": {
          "base_uri": "https://localhost:8080/",
          "height": 644
        },
        "outputId": "212f21bf-598a-4674-d6a2-f6e0f0ef1ab3"
      },
      "source": [
        "tf.keras.utils.plot_model(model, show_shapes=True, show_layer_names=True, expand_nested=True)"
      ],
      "execution_count": 51,
      "outputs": [
        {
          "output_type": "execute_result",
          "data": {
            "image/png": "[encoded data removed]",
            "text/plain": [
              "<IPython.core.display.Image object>"
            ]
          },
          "metadata": {
            "tags": []
          },
          "execution_count": 51
        }
      ]
    },
    {
      "cell_type": "code",
      "metadata": {
        "id": "fsaMsywt2Uwk",
        "colab_type": "code",
        "colab": {
          "base_uri": "https://localhost:8080/",
          "height": 697
        },
        "outputId": "dd7b3245-9bc2-46d0-cfc5-b17483434064"
      },
      "source": [
        "num_epochs = 20\n",
        "history = model.fit(training_sequences, training_labels, epochs=num_epochs, validation_data=(test_sequences, test_labels), verbose=1)"
      ],
      "execution_count": 52,
      "outputs": [
        {
          "output_type": "stream",
          "text": [
            "Epoch 1/20\n",
            "4500/4500 [==============================] - 47s 10ms/step - loss: 0.5153 - accuracy: 0.7416 - val_loss: 0.4911 - val_accuracy: 0.7708\n",
            "Epoch 2/20\n",
            "4500/4500 [==============================] - 49s 11ms/step - loss: 0.4557 - accuracy: 0.7826 - val_loss: 0.4597 - val_accuracy: 0.7813\n",
            "Epoch 3/20\n",
            "4500/4500 [==============================] - 47s 10ms/step - loss: 0.4268 - accuracy: 0.8008 - val_loss: 0.4416 - val_accuracy: 0.7945\n",
            "Epoch 4/20\n",
            "4500/4500 [==============================] - 46s 10ms/step - loss: 0.4032 - accuracy: 0.8133 - val_loss: 0.4412 - val_accuracy: 0.7979\n",
            "Epoch 5/20\n",
            "4500/4500 [==============================] - 46s 10ms/step - loss: 0.3816 - accuracy: 0.8250 - val_loss: 0.4465 - val_accuracy: 0.7962\n",
            "Epoch 6/20\n",
            "4500/4500 [==============================] - 46s 10ms/step - loss: 0.3598 - accuracy: 0.8377 - val_loss: 0.4469 - val_accuracy: 0.7956\n",
            "Epoch 7/20\n",
            "4500/4500 [==============================] - 46s 10ms/step - loss: 0.3381 - accuracy: 0.8489 - val_loss: 0.4827 - val_accuracy: 0.7894\n",
            "Epoch 8/20\n",
            "4500/4500 [==============================] - 46s 10ms/step - loss: 0.3153 - accuracy: 0.8609 - val_loss: 0.4948 - val_accuracy: 0.7875\n",
            "Epoch 9/20\n",
            "4500/4500 [==============================] - 47s 10ms/step - loss: 0.2918 - accuracy: 0.8722 - val_loss: 0.5305 - val_accuracy: 0.7812\n",
            "Epoch 10/20\n",
            "4500/4500 [==============================] - 46s 10ms/step - loss: 0.2681 - accuracy: 0.8838 - val_loss: 0.5609 - val_accuracy: 0.7807\n",
            "Epoch 11/20\n",
            "4500/4500 [==============================] - 45s 10ms/step - loss: 0.2469 - accuracy: 0.8938 - val_loss: 0.5938 - val_accuracy: 0.7767\n",
            "Epoch 12/20\n",
            "4500/4500 [==============================] - 46s 10ms/step - loss: 0.2273 - accuracy: 0.9037 - val_loss: 0.6721 - val_accuracy: 0.7751\n",
            "Epoch 13/20\n",
            "4500/4500 [==============================] - 46s 10ms/step - loss: 0.2093 - accuracy: 0.9109 - val_loss: 0.6644 - val_accuracy: 0.7714\n",
            "Epoch 14/20\n",
            "4500/4500 [==============================] - 46s 10ms/step - loss: 0.1924 - accuracy: 0.9189 - val_loss: 0.7362 - val_accuracy: 0.7697\n",
            "Epoch 15/20\n",
            "4500/4500 [==============================] - 46s 10ms/step - loss: 0.1779 - accuracy: 0.9257 - val_loss: 0.7765 - val_accuracy: 0.7671\n",
            "Epoch 16/20\n",
            "4500/4500 [==============================] - 47s 10ms/step - loss: 0.1650 - accuracy: 0.9319 - val_loss: 0.8425 - val_accuracy: 0.7663\n",
            "Epoch 17/20\n",
            "4500/4500 [==============================] - 46s 10ms/step - loss: 0.1546 - accuracy: 0.9363 - val_loss: 0.8609 - val_accuracy: 0.7613\n",
            "Epoch 18/20\n",
            "4500/4500 [==============================] - 46s 10ms/step - loss: 0.1434 - accuracy: 0.9408 - val_loss: 0.9259 - val_accuracy: 0.7642\n",
            "Epoch 19/20\n",
            "4500/4500 [==============================] - 46s 10ms/step - loss: 0.1350 - accuracy: 0.9450 - val_loss: 0.9769 - val_accuracy: 0.7607\n",
            "Epoch 20/20\n",
            "4500/4500 [==============================] - 46s 10ms/step - loss: 0.1275 - accuracy: 0.9478 - val_loss: 1.0024 - val_accuracy: 0.7589\n"
          ],
          "name": "stdout"
        }
      ]
    },
    {
      "cell_type": "code",
      "metadata": {
        "id": "bClTq7ohI3ni",
        "colab_type": "code",
        "colab": {
          "base_uri": "https://localhost:8080/",
          "height": 607
        },
        "outputId": "64dcdcfa-9c40-44ca-e136-b9cef49ab8fd"
      },
      "source": [
        "import matplotlib.image  as mpimg\n",
        "import matplotlib.pyplot as plt\n",
        "\n",
        "#-----------------------------------------------------------\n",
        "# Retrieve a list of list results on training and test data\n",
        "# sets for each training epoch\n",
        "#-----------------------------------------------------------\n",
        "acc=history.history['accuracy']\n",
        "val_acc=history.history['val_accuracy']\n",
        "loss=history.history['loss']\n",
        "val_loss=history.history['val_loss']\n",
        "\n",
        "epochs=range(len(acc)) # Get number of epochs\n",
        "\n",
        "#------------------------------------------------\n",
        "# Plot training and validation accuracy per epoch\n",
        "#------------------------------------------------\n",
        "plt.plot(epochs, acc, 'r')\n",
        "plt.plot(epochs, val_acc, 'b')\n",
        "plt.title('Training and validation accuracy')\n",
        "plt.xlabel(\"Epochs\")\n",
        "plt.ylabel(\"Accuracy\")\n",
        "plt.legend([\"Accuracy\", \"Validation Accuracy\"])\n",
        "\n",
        "plt.figure()\n",
        "\n",
        "#------------------------------------------------\n",
        "# Plot training and validation loss per epoch\n",
        "#------------------------------------------------\n",
        "plt.plot(epochs, loss, 'r')\n",
        "plt.plot(epochs, val_loss, 'b')\n",
        "plt.title('Training and validation loss')\n",
        "plt.xlabel(\"Epochs\")\n",
        "plt.ylabel(\"Loss\")\n",
        "plt.legend([\"Loss\", \"Validation Loss\"])\n",
        "\n",
        "plt.figure()\n",
        "\n",
        "\n",
        "# Expected Output\n",
        "# A chart where the validation loss does not increase sharply!"
      ],
      "execution_count": 53,
      "outputs": [
        {
          "output_type": "execute_result",
          "data": {
            "text/plain": [
              "<Figure size 432x288 with 0 Axes>"
            ]
          },
          "metadata": {
            "tags": []
          },
          "execution_count": 53
        },
        {
          "output_type": "display_data",
          "data": {
            "image/png": "[encoded data removed]",
            "text/plain": [
              "<Figure size 432x288 with 1 Axes>"
            ]
          },
          "metadata": {
            "tags": [],
            "needs_background": "light"
          }
        },
        {
          "output_type": "display_data",
          "data": {
            "image/png": "[encoded data removed]",
            "text/plain": [
              "<Figure size 432x288 with 1 Axes>"
            ]
          },
          "metadata": {
            "tags": [],
            "needs_background": "light"
          }
        },
        {
          "output_type": "display_data",
          "data": {
            "text/plain": [
              "<Figure size 432x288 with 0 Axes>"
            ]
          },
          "metadata": {
            "tags": []
          }
        }
      ]
    }
  ]
}